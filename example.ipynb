{
 "cells": [
  {
   "cell_type": "code",
   "execution_count": 2,
   "metadata": {
    "pycharm": {
     "is_executing": false,
     "name": "#%%\n"
    }
   },
   "outputs": [
    {
     "data": {
      "text/plain": "<Figure size 432x288 with 1 Axes>",
      "image/png": "[encoded data removed]"
     },
     "metadata": {
      "needs_background": "light"
     },
     "output_type": "display_data"
    }
   ],
   "source": [
    "## trajectory.py\n",
    "## modeling of a charged particle trajectory with numpy and matplotlib\n",
    "\n",
    "from mpl_toolkits.mplot3d import axes3d\n",
    "import numpy as np \n",
    "import matplotlib.pyplot as plt\n",
    "import math\n",
    "\n",
    "import numpy as np\n",
    "import matplotlib.pyplot as plt\n",
    "\n",
    "def time_to_hit_ground(y0, v0, a):\n",
    "    discriminant = np.sqrt(v0**2 - 2*a*y0)\n",
    "    t1 = (-v0 - discriminant) / a\n",
    "    t2 = (-v0 + discriminant) / a\n",
    "    if t1 >=0:\n",
    "        return t1\n",
    "    return t2\n",
    "\n",
    "def drop(y0, v0=0.0, dt=0.1, g=-9.8):\n",
    "    if y0 < 0:\n",
    "        print('Object is underground.')\n",
    "        return\n",
    "    # if you also allow the user to change `dt` and `g` from the arguments,\n",
    "    # you want to check they have the correct sign.\n",
    "\n",
    "    t_ground = time_to_hit_ground(y0, v0, g)\n",
    "\n",
    "    t = np.arange(0, t_ground+dt, dt)\n",
    "    v = v0 + g * t\n",
    "    y = y0 + v0 * t + g * t**2 / 2.\n",
    "\n",
    "    plt.plot(t, y, '.')\n",
    "    plt.axvline(t_ground, color='g')\n",
    "    plt.axhline(0, color='g')\n",
    "    plt.xlabel('Time (s)')\n",
    "    plt.ylabel('Height (m)')\n",
    "    plt.show()\n",
    "    \n",
    "drop(10,0)"
   ]
  },
  {
   "cell_type": "markdown",
   "source": [
    "Симуляция свободного падения тела с заданной начальной скоростью"
   ],
   "metadata": {
    "collapsed": false
   }
  }
 ],
 "metadata": {
  "kernelspec": {
   "display_name": "Python 3",
   "language": "python",
   "name": "python3"
  },
  "language_info": {
   "codemirror_mode": {
    "name": "ipython",
    "version": 3
   },
   "file_extension": ".py",
   "mimetype": "text/x-python",
   "name": "python",
   "nbconvert_exporter": "python",
   "pygments_lexer": "ipython3",
   "version": "3.7.6"
  },
  "pycharm": {
   "stem_cell": {
    "cell_type": "raw",
    "source": [],
    "metadata": {
     "collapsed": false
    }
   }
  }
 },
 "nbformat": 4,
 "nbformat_minor": 1
}